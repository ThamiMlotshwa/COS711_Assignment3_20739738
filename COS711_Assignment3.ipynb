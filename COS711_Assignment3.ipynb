{
  "nbformat": 4,
  "nbformat_minor": 0,
  "metadata": {
    "colab": {
      "name": "COS711_Assignment3.ipynb",
      "provenance": [],
      "collapsed_sections": []
    },
    "kernelspec": {
      "name": "python3",
      "display_name": "Python 3"
    }
  },
  "cells": [
    {
      "cell_type": "markdown",
      "metadata": {
        "id": "jHx7koReQ0Oq",
        "colab_type": "text"
      },
      "source": [
        "# COS 711: Assignment 3 - Zindi Deep Learning\n",
        "\n",
        "This assignment sees will make use of a RNN and a Boosting Descent Algorithm (curse the example for using what I wanted to use but never the less, we will be okay)\n",
        "\n",
        "### 1. Getting the data in\n",
        "\n",
        "$\\cos^2(x) + \\sin^2(x) = 1$"
      ]
    },
    {
      "cell_type": "code",
      "metadata": {
        "id": "ydrf0vNLgF08",
        "colab_type": "code",
        "colab": {
          "base_uri": "https://localhost:8080/",
          "height": 266
        },
        "outputId": "c8cb3a04-b81e-4235-925f-3b4cdd6ced60"
      },
      "source": [
        "!pip install PyDrive"
      ],
      "execution_count": 15,
      "outputs": [
        {
          "output_type": "stream",
          "text": [
            "Requirement already satisfied: PyDrive in /usr/local/lib/python3.6/dist-packages (1.3.1)\n",
            "Requirement already satisfied: oauth2client>=4.0.0 in /usr/local/lib/python3.6/dist-packages (from PyDrive) (4.1.3)\n",
            "Requirement already satisfied: PyYAML>=3.0 in /usr/local/lib/python3.6/dist-packages (from PyDrive) (3.13)\n",
            "Requirement already satisfied: google-api-python-client>=1.2 in /usr/local/lib/python3.6/dist-packages (from PyDrive) (1.7.12)\n",
            "Requirement already satisfied: pyasn1>=0.1.7 in /usr/local/lib/python3.6/dist-packages (from oauth2client>=4.0.0->PyDrive) (0.4.8)\n",
            "Requirement already satisfied: rsa>=3.1.4 in /usr/local/lib/python3.6/dist-packages (from oauth2client>=4.0.0->PyDrive) (4.6)\n",
            "Requirement already satisfied: pyasn1-modules>=0.0.5 in /usr/local/lib/python3.6/dist-packages (from oauth2client>=4.0.0->PyDrive) (0.2.8)\n",
            "Requirement already satisfied: httplib2>=0.9.1 in /usr/local/lib/python3.6/dist-packages (from oauth2client>=4.0.0->PyDrive) (0.17.4)\n",
            "Requirement already satisfied: six>=1.6.1 in /usr/local/lib/python3.6/dist-packages (from oauth2client>=4.0.0->PyDrive) (1.12.0)\n",
            "Requirement already satisfied: google-auth-httplib2>=0.0.3 in /usr/local/lib/python3.6/dist-packages (from google-api-python-client>=1.2->PyDrive) (0.0.3)\n",
            "Requirement already satisfied: uritemplate<4dev,>=3.0.0 in /usr/local/lib/python3.6/dist-packages (from google-api-python-client>=1.2->PyDrive) (3.0.1)\n",
            "Requirement already satisfied: google-auth>=1.4.1 in /usr/local/lib/python3.6/dist-packages (from google-api-python-client>=1.2->PyDrive) (1.17.2)\n",
            "Requirement already satisfied: setuptools>=40.3.0 in /usr/local/lib/python3.6/dist-packages (from google-auth>=1.4.1->google-api-python-client>=1.2->PyDrive) (47.3.1)\n",
            "Requirement already satisfied: cachetools<5.0,>=2.0.0 in /usr/local/lib/python3.6/dist-packages (from google-auth>=1.4.1->google-api-python-client>=1.2->PyDrive) (4.1.0)\n"
          ],
          "name": "stdout"
        }
      ]
    },
    {
      "cell_type": "code",
      "metadata": {
        "id": "3yiVfclOQv_5",
        "colab_type": "code",
        "colab": {}
      },
      "source": [
        "import pandas as pd \n",
        "import numpy as np \n",
        "from tqdm import tqdm\n",
        "import math\n",
        "import gc\n",
        "from pydrive.auth import GoogleAuth\n",
        "from pydrive.drive import GoogleDrive\n",
        "from google.colab import auth\n",
        "from oauth2client.client import GoogleCredentials"
      ],
      "execution_count": 16,
      "outputs": []
    },
    {
      "cell_type": "code",
      "metadata": {
        "id": "AapPY8s7gSSO",
        "colab_type": "code",
        "colab": {}
      },
      "source": [
        "auth.authenticate_user()\n",
        "gauth = GoogleAuth()\n",
        "gauth.credentials = GoogleCredentials.get_application_default()\n",
        "drive = GoogleDrive(gauth)"
      ],
      "execution_count": 17,
      "outputs": []
    },
    {
      "cell_type": "code",
      "metadata": {
        "id": "DgbDlv2Ygi6Y",
        "colab_type": "code",
        "colab": {}
      },
      "source": [
        "downloadedTrain = drive.CreateFile({'id':\"1M0Zj1fZKIocOZBXAbk8GJCkEdpCGIoay\"})   # replace the id with id of file you want to access\n",
        "downloadedTest = drive.CreateFile({'id':\"1FtJUikAfXCkLj4c_DldLFhRHbzRG_rpZ\"})\n",
        "downloadedTrain.GetContentFile('Train.csv')        # replace the file name with your file\n",
        "downloadedTest.GetContentFile('Test.csv')"
      ],
      "execution_count": 18,
      "outputs": []
    },
    {
      "cell_type": "markdown",
      "metadata": {
        "id": "pbUxfelTQyPv",
        "colab_type": "text"
      },
      "source": [
        "Importing the data:"
      ]
    },
    {
      "cell_type": "code",
      "metadata": {
        "id": "w-3fBXDmR8DH",
        "colab_type": "code",
        "colab": {
          "base_uri": "https://localhost:8080/",
          "height": 214
        },
        "outputId": "b16387fb-83d1-40df-eebb-535be9f264f1"
      },
      "source": [
        "train=pd.read_csv(\"Train.csv\")\n",
        "test=pd.read_csv(\"Test.csv\")\n",
        "# sample_sub=pd.read_csv(\"./data/sample_sub.csv\")\n",
        "train.head()\n",
        "\n",
        "# 15539 observations"
      ],
      "execution_count": 19,
      "outputs": [
        {
          "output_type": "execute_result",
          "data": {
            "text/html": [
              "<div>\n",
              "<style scoped>\n",
              "    .dataframe tbody tr th:only-of-type {\n",
              "        vertical-align: middle;\n",
              "    }\n",
              "\n",
              "    .dataframe tbody tr th {\n",
              "        vertical-align: top;\n",
              "    }\n",
              "\n",
              "    .dataframe thead th {\n",
              "        text-align: right;\n",
              "    }\n",
              "</style>\n",
              "<table border=\"1\" class=\"dataframe\">\n",
              "  <thead>\n",
              "    <tr style=\"text-align: right;\">\n",
              "      <th></th>\n",
              "      <th>ID</th>\n",
              "      <th>location</th>\n",
              "      <th>temp</th>\n",
              "      <th>precip</th>\n",
              "      <th>rel_humidity</th>\n",
              "      <th>wind_dir</th>\n",
              "      <th>wind_spd</th>\n",
              "      <th>atmos_press</th>\n",
              "      <th>target</th>\n",
              "    </tr>\n",
              "  </thead>\n",
              "  <tbody>\n",
              "    <tr>\n",
              "      <th>0</th>\n",
              "      <td>ID_train_0</td>\n",
              "      <td>C</td>\n",
              "      <td>nan,nan,nan,nan,nan,nan,nan,nan,nan,nan,nan,na...</td>\n",
              "      <td>nan,nan,nan,nan,nan,nan,nan,nan,nan,nan,nan,na...</td>\n",
              "      <td>nan,nan,nan,nan,nan,nan,nan,nan,nan,nan,nan,na...</td>\n",
              "      <td>nan,nan,nan,nan,nan,nan,nan,nan,nan,nan,nan,na...</td>\n",
              "      <td>nan,nan,nan,nan,nan,nan,nan,nan,nan,nan,nan,na...</td>\n",
              "      <td>nan,nan,nan,nan,nan,nan,nan,nan,nan,nan,nan,na...</td>\n",
              "      <td>45.126304</td>\n",
              "    </tr>\n",
              "    <tr>\n",
              "      <th>1</th>\n",
              "      <td>ID_train_1</td>\n",
              "      <td>D</td>\n",
              "      <td>22.53333333,21.71666667,20.83333333,20.9833333...</td>\n",
              "      <td>0.102,0.0,0.0,0.0,0.0,0.0,0.0,0.034,0.017,0.01...</td>\n",
              "      <td>0.744583333,0.808083333,0.911166667,0.91633333...</td>\n",
              "      <td>281.6643101,89.15629262,81.96853891,291.018632...</td>\n",
              "      <td>2.3775,1.126666667,0.700833333,0.3416666670000...</td>\n",
              "      <td>90.32,90.3775,90.44083333,90.4725,90.45416667,...</td>\n",
              "      <td>79.131702</td>\n",
              "    </tr>\n",
              "    <tr>\n",
              "      <th>2</th>\n",
              "      <td>ID_train_10</td>\n",
              "      <td>A</td>\n",
              "      <td>28.975,27.95,29.6,26.425,22.09166667,21.775,22...</td>\n",
              "      <td>0.0,0.0,0.0,0.102,0.136,0.0,0.0,2.16,1.276,0.0...</td>\n",
              "      <td>0.573333333,0.597166667,0.5668333329999999,0.6...</td>\n",
              "      <td>nan,nan,nan,nan,nan,nan,nan,nan,nan,nan,nan,na...</td>\n",
              "      <td>nan,nan,nan,nan,nan,nan,nan,nan,nan,nan,nan,na...</td>\n",
              "      <td>88.55166667,88.46416667,88.31916667,88.24,88.2...</td>\n",
              "      <td>32.661304</td>\n",
              "    </tr>\n",
              "    <tr>\n",
              "      <th>3</th>\n",
              "      <td>ID_train_100</td>\n",
              "      <td>A</td>\n",
              "      <td>22.96666667,24.26666667,25.275,25.625,25.86666...</td>\n",
              "      <td>0.0,0.0,0.0,0.0,0.0,0.0,0.0,0.0,7.77,3.012,1.0...</td>\n",
              "      <td>0.8430833329999999,0.79025,0.7375,0.728,0.7049...</td>\n",
              "      <td>300.0850574,293.6769595,294.5174647,301.921416...</td>\n",
              "      <td>1.446666667,1.1925,1.324166667,1.5441666669999...</td>\n",
              "      <td>88.615,88.53083333,88.4,88.27166667,88.2075,88...</td>\n",
              "      <td>53.850238</td>\n",
              "    </tr>\n",
              "    <tr>\n",
              "      <th>4</th>\n",
              "      <td>ID_train_1000</td>\n",
              "      <td>A</td>\n",
              "      <td>21.875,21.575,21.525,21.43333333,20.50833333,1...</td>\n",
              "      <td>0.0,0.0,0.0,0.0,0.0,0.0,0.0,0.0,0.0,0.0,0.0,0....</td>\n",
              "      <td>0.8564166670000001,0.874916667,0.879833333,0.8...</td>\n",
              "      <td>21.83997432,17.05405341,89.26406044,123.585424...</td>\n",
              "      <td>0.1975,0.244166667,0.411666667,0.56,0.5775,0.4...</td>\n",
              "      <td>88.55666667,88.64083333,88.65833333,88.6475,88...</td>\n",
              "      <td>177.418750</td>\n",
              "    </tr>\n",
              "  </tbody>\n",
              "</table>\n",
              "</div>"
            ],
            "text/plain": [
              "              ID  ...      target\n",
              "0     ID_train_0  ...   45.126304\n",
              "1     ID_train_1  ...   79.131702\n",
              "2    ID_train_10  ...   32.661304\n",
              "3   ID_train_100  ...   53.850238\n",
              "4  ID_train_1000  ...  177.418750\n",
              "\n",
              "[5 rows x 9 columns]"
            ]
          },
          "metadata": {
            "tags": []
          },
          "execution_count": 19
        }
      ]
    },
    {
      "cell_type": "markdown",
      "metadata": {
        "id": "fU7wbXTAlRyB",
        "colab_type": "text"
      },
      "source": [
        "### 2. Adjusting and engineering the data for ease of use (as suggested in the "
      ]
    },
    {
      "cell_type": "code",
      "metadata": {
        "id": "63VOtGENTmoR",
        "colab_type": "code",
        "colab": {}
      },
      "source": [
        "# covert features  from string to List of values \n",
        "def replace_nan(x):\n",
        "    if x==\" \":\n",
        "        return np.nan\n",
        "    else :\n",
        "        return float(x)\n",
        "\n",
        "# define the feature list\n",
        "features=[\"temp\",\"precip\",\"rel_humidity\",\"wind_dir\",\"wind_spd\",\"atmos_press\"]\n",
        "\n",
        "# for each field: split on the commas, replace \"nan\" with np.Nan\n",
        "# So  now we have 2-dimensional arrays\n",
        "for feature in features : \n",
        "    train[feature]=train[feature].apply(lambda x: [ replace_nan(X) for X in x.replace(\"nan\",\" \").split(\",\")])\n",
        "    test[feature]=test[feature].apply(lambda x: [ replace_nan(X)  for X in x.replace(\"nan\",\" \").split(\",\")])    "
      ],
      "execution_count": 20,
      "outputs": []
    },
    {
      "cell_type": "markdown",
      "metadata": {
        "id": "UsyRW44yUaF3",
        "colab_type": "text"
      },
      "source": [
        "Data engineering"
      ]
    },
    {
      "cell_type": "code",
      "metadata": {
        "id": "df9w9039UZOO",
        "colab_type": "code",
        "colab": {}
      },
      "source": [
        "# aggreagation may be useful. We'll see\n",
        "def aggregate_features(x,col_name):\n",
        "    x[\"max_\"+col_name]=x[col_name].apply(np.max)\n",
        "    x[\"min_\"+col_name]=x[col_name].apply(np.min)\n",
        "    x[\"mean_\"+col_name]=x[col_name].apply(np.mean)\n",
        "    x[\"std_\"+col_name]=x[col_name].apply(np.std)\n",
        "    x[\"var_\"+col_name]=x[col_name].apply(np.var)\n",
        "    x[\"median_\"+col_name]=x[col_name].apply(np.median)\n",
        "    x[\"ptp_\"+col_name]=x[col_name].apply(np.ptp)\n",
        "    return x  \n",
        "# For an array x, return the non-null vals. Smaller array though (?)    \n",
        "def remove_nan_values(x):\n",
        "    return [e for e in x if not math.isnan(e)]"
      ],
      "execution_count": 21,
      "outputs": []
    },
    {
      "cell_type": "code",
      "metadata": {
        "id": "2_-AFkF0Us8a",
        "colab_type": "code",
        "colab": {
          "base_uri": "https://localhost:8080/",
          "height": 177
        },
        "outputId": "def43dc3-76e0-4f73-e1e3-b5d0a38a2b81"
      },
      "source": [
        "# join the test and training sets for transformation \n",
        "data=pd.concat([train,test],sort=False).reset_index(drop=True)\n",
        "data.columns.tolist()"
      ],
      "execution_count": 22,
      "outputs": [
        {
          "output_type": "execute_result",
          "data": {
            "text/plain": [
              "['ID',\n",
              " 'location',\n",
              " 'temp',\n",
              " 'precip',\n",
              " 'rel_humidity',\n",
              " 'wind_dir',\n",
              " 'wind_spd',\n",
              " 'atmos_press',\n",
              " 'target']"
            ]
          },
          "metadata": {
            "tags": []
          },
          "execution_count": 22
        }
      ]
    },
    {
      "cell_type": "code",
      "metadata": {
        "id": "MOHHNbwtjfdA",
        "colab_type": "code",
        "colab": {
          "base_uri": "https://localhost:8080/",
          "height": 35
        },
        "outputId": "21a1a493-bc32-4ec0-e8c8-fb249de362fb"
      },
      "source": [
        "for col_name in tqdm(features):\n",
        "    data[col_name]=data[col_name].apply(remove_nan_values)"
      ],
      "execution_count": 23,
      "outputs": [
        {
          "output_type": "stream",
          "text": [
            "100%|██████████| 6/6 [00:02<00:00,  2.98it/s]\n"
          ],
          "name": "stderr"
        }
      ]
    },
    {
      "cell_type": "code",
      "metadata": {
        "id": "42zzgPPajipu",
        "colab_type": "code",
        "colab": {
          "base_uri": "https://localhost:8080/",
          "height": 35
        },
        "outputId": "52eba41f-084c-4886-eaaa-b7cc3ade5630"
      },
      "source": [
        "for col_name in tqdm(features):\n",
        "    data=aggregate_features(data,col_name)"
      ],
      "execution_count": 24,
      "outputs": [
        {
          "output_type": "stream",
          "text": [
            "100%|██████████| 6/6 [00:19<00:00,  3.33s/it]\n"
          ],
          "name": "stderr"
        }
      ]
    },
    {
      "cell_type": "code",
      "metadata": {
        "id": "HEth7sfIjxxW",
        "colab_type": "code",
        "colab": {}
      },
      "source": [
        "for x in range(121):\n",
        "    data[\"newtemp\"+ str(x)] = data.temp.str[x]\n",
        "    data[\"newprecip\"+ str(x)] = data.precip.str[x]\n",
        "    data[\"newrel_humidity\"+ str(x)] = data.rel_humidity.str[x]\n",
        "    data[\"newwind_dir\"+ str(x)] = data.wind_dir.str[x]\n",
        "    data[\"windspeed\"+ str(x)] = data.wind_spd.str[x]\n",
        "    data[\"atmospherepressure\"+ str(x)] = data.atmos_press.str[x]"
      ],
      "execution_count": 25,
      "outputs": []
    },
    {
      "cell_type": "code",
      "metadata": {
        "id": "RQV5HuyujyJI",
        "colab_type": "code",
        "colab": {}
      },
      "source": [
        "# drop the initial rows used to make the new ones \n",
        "data.drop(features,1,inplace=True)"
      ],
      "execution_count": 26,
      "outputs": []
    },
    {
      "cell_type": "code",
      "metadata": {
        "id": "V4THhKmRjyzs",
        "colab_type": "code",
        "colab": {}
      },
      "source": [
        "# Spilt the data again\n",
        "train=data[data.target.notnull()].reset_index(drop=True)\n",
        "test=data[data.target.isna()].reset_index(drop=True)"
      ],
      "execution_count": 27,
      "outputs": []
    },
    {
      "cell_type": "code",
      "metadata": {
        "id": "8YwojiWbj_wG",
        "colab_type": "code",
        "colab": {
          "base_uri": "https://localhost:8080/",
          "height": 35
        },
        "outputId": "64a86124-061f-4d6a-854a-36bd89a81bd0"
      },
      "source": [
        "del data  \n",
        "gc.collect()"
      ],
      "execution_count": 28,
      "outputs": [
        {
          "output_type": "execute_result",
          "data": {
            "text/plain": [
              "302"
            ]
          },
          "metadata": {
            "tags": []
          },
          "execution_count": 28
        }
      ]
    },
    {
      "cell_type": "code",
      "metadata": {
        "id": "V2EbOHV2kH6C",
        "colab_type": "code",
        "colab": {
          "base_uri": "https://localhost:8080/",
          "height": 184
        },
        "outputId": "07c85430-0a51-4362-ba11-1a9b3d621872"
      },
      "source": [
        "train.head(3)"
      ],
      "execution_count": 29,
      "outputs": [
        {
          "output_type": "execute_result",
          "data": {
            "text/html": [
              "<div>\n",
              "<style scoped>\n",
              "    .dataframe tbody tr th:only-of-type {\n",
              "        vertical-align: middle;\n",
              "    }\n",
              "\n",
              "    .dataframe tbody tr th {\n",
              "        vertical-align: top;\n",
              "    }\n",
              "\n",
              "    .dataframe thead th {\n",
              "        text-align: right;\n",
              "    }\n",
              "</style>\n",
              "<table border=\"1\" class=\"dataframe\">\n",
              "  <thead>\n",
              "    <tr style=\"text-align: right;\">\n",
              "      <th></th>\n",
              "      <th>ID</th>\n",
              "      <th>location</th>\n",
              "      <th>target</th>\n",
              "      <th>max_temp</th>\n",
              "      <th>min_temp</th>\n",
              "      <th>mean_temp</th>\n",
              "      <th>std_temp</th>\n",
              "      <th>var_temp</th>\n",
              "      <th>median_temp</th>\n",
              "      <th>ptp_temp</th>\n",
              "      <th>max_precip</th>\n",
              "      <th>min_precip</th>\n",
              "      <th>mean_precip</th>\n",
              "      <th>std_precip</th>\n",
              "      <th>var_precip</th>\n",
              "      <th>median_precip</th>\n",
              "      <th>ptp_precip</th>\n",
              "      <th>max_rel_humidity</th>\n",
              "      <th>min_rel_humidity</th>\n",
              "      <th>mean_rel_humidity</th>\n",
              "      <th>std_rel_humidity</th>\n",
              "      <th>var_rel_humidity</th>\n",
              "      <th>median_rel_humidity</th>\n",
              "      <th>ptp_rel_humidity</th>\n",
              "      <th>max_wind_dir</th>\n",
              "      <th>min_wind_dir</th>\n",
              "      <th>mean_wind_dir</th>\n",
              "      <th>std_wind_dir</th>\n",
              "      <th>var_wind_dir</th>\n",
              "      <th>median_wind_dir</th>\n",
              "      <th>ptp_wind_dir</th>\n",
              "      <th>max_wind_spd</th>\n",
              "      <th>min_wind_spd</th>\n",
              "      <th>mean_wind_spd</th>\n",
              "      <th>std_wind_spd</th>\n",
              "      <th>var_wind_spd</th>\n",
              "      <th>median_wind_spd</th>\n",
              "      <th>ptp_wind_spd</th>\n",
              "      <th>max_atmos_press</th>\n",
              "      <th>min_atmos_press</th>\n",
              "      <th>...</th>\n",
              "      <th>newrel_humidity114</th>\n",
              "      <th>newwind_dir114</th>\n",
              "      <th>windspeed114</th>\n",
              "      <th>atmospherepressure114</th>\n",
              "      <th>newtemp115</th>\n",
              "      <th>newprecip115</th>\n",
              "      <th>newrel_humidity115</th>\n",
              "      <th>newwind_dir115</th>\n",
              "      <th>windspeed115</th>\n",
              "      <th>atmospherepressure115</th>\n",
              "      <th>newtemp116</th>\n",
              "      <th>newprecip116</th>\n",
              "      <th>newrel_humidity116</th>\n",
              "      <th>newwind_dir116</th>\n",
              "      <th>windspeed116</th>\n",
              "      <th>atmospherepressure116</th>\n",
              "      <th>newtemp117</th>\n",
              "      <th>newprecip117</th>\n",
              "      <th>newrel_humidity117</th>\n",
              "      <th>newwind_dir117</th>\n",
              "      <th>windspeed117</th>\n",
              "      <th>atmospherepressure117</th>\n",
              "      <th>newtemp118</th>\n",
              "      <th>newprecip118</th>\n",
              "      <th>newrel_humidity118</th>\n",
              "      <th>newwind_dir118</th>\n",
              "      <th>windspeed118</th>\n",
              "      <th>atmospherepressure118</th>\n",
              "      <th>newtemp119</th>\n",
              "      <th>newprecip119</th>\n",
              "      <th>newrel_humidity119</th>\n",
              "      <th>newwind_dir119</th>\n",
              "      <th>windspeed119</th>\n",
              "      <th>atmospherepressure119</th>\n",
              "      <th>newtemp120</th>\n",
              "      <th>newprecip120</th>\n",
              "      <th>newrel_humidity120</th>\n",
              "      <th>newwind_dir120</th>\n",
              "      <th>windspeed120</th>\n",
              "      <th>atmospherepressure120</th>\n",
              "    </tr>\n",
              "  </thead>\n",
              "  <tbody>\n",
              "    <tr>\n",
              "      <th>0</th>\n",
              "      <td>ID_train_0</td>\n",
              "      <td>C</td>\n",
              "      <td>45.126304</td>\n",
              "      <td>27.208333</td>\n",
              "      <td>19.275000</td>\n",
              "      <td>22.299527</td>\n",
              "      <td>2.594011</td>\n",
              "      <td>6.728895</td>\n",
              "      <td>21.358333</td>\n",
              "      <td>7.933333</td>\n",
              "      <td>0.000</td>\n",
              "      <td>0.0</td>\n",
              "      <td>0.000000</td>\n",
              "      <td>0.000000</td>\n",
              "      <td>0.000000</td>\n",
              "      <td>0.0</td>\n",
              "      <td>0.000</td>\n",
              "      <td>0.891500</td>\n",
              "      <td>0.510818</td>\n",
              "      <td>0.758530</td>\n",
              "      <td>0.120234</td>\n",
              "      <td>0.014456</td>\n",
              "      <td>0.806292</td>\n",
              "      <td>0.380682</td>\n",
              "      <td>345.726333</td>\n",
              "      <td>6.535299</td>\n",
              "      <td>209.574655</td>\n",
              "      <td>120.231802</td>\n",
              "      <td>14455.686315</td>\n",
              "      <td>220.039988</td>\n",
              "      <td>339.191034</td>\n",
              "      <td>1.517500</td>\n",
              "      <td>0.162500</td>\n",
              "      <td>0.677348</td>\n",
              "      <td>0.394041</td>\n",
              "      <td>0.155268</td>\n",
              "      <td>0.666250</td>\n",
              "      <td>1.355000</td>\n",
              "      <td>87.871667</td>\n",
              "      <td>87.614167</td>\n",
              "      <td>...</td>\n",
              "      <td>NaN</td>\n",
              "      <td>NaN</td>\n",
              "      <td>NaN</td>\n",
              "      <td>NaN</td>\n",
              "      <td>NaN</td>\n",
              "      <td>NaN</td>\n",
              "      <td>NaN</td>\n",
              "      <td>NaN</td>\n",
              "      <td>NaN</td>\n",
              "      <td>NaN</td>\n",
              "      <td>NaN</td>\n",
              "      <td>NaN</td>\n",
              "      <td>NaN</td>\n",
              "      <td>NaN</td>\n",
              "      <td>NaN</td>\n",
              "      <td>NaN</td>\n",
              "      <td>NaN</td>\n",
              "      <td>NaN</td>\n",
              "      <td>NaN</td>\n",
              "      <td>NaN</td>\n",
              "      <td>NaN</td>\n",
              "      <td>NaN</td>\n",
              "      <td>NaN</td>\n",
              "      <td>NaN</td>\n",
              "      <td>NaN</td>\n",
              "      <td>NaN</td>\n",
              "      <td>NaN</td>\n",
              "      <td>NaN</td>\n",
              "      <td>NaN</td>\n",
              "      <td>NaN</td>\n",
              "      <td>NaN</td>\n",
              "      <td>NaN</td>\n",
              "      <td>NaN</td>\n",
              "      <td>NaN</td>\n",
              "      <td>NaN</td>\n",
              "      <td>NaN</td>\n",
              "      <td>NaN</td>\n",
              "      <td>NaN</td>\n",
              "      <td>NaN</td>\n",
              "      <td>NaN</td>\n",
              "    </tr>\n",
              "    <tr>\n",
              "      <th>1</th>\n",
              "      <td>ID_train_1</td>\n",
              "      <td>D</td>\n",
              "      <td>79.131702</td>\n",
              "      <td>33.616667</td>\n",
              "      <td>17.983333</td>\n",
              "      <td>24.679063</td>\n",
              "      <td>4.266955</td>\n",
              "      <td>18.206903</td>\n",
              "      <td>23.791667</td>\n",
              "      <td>15.633333</td>\n",
              "      <td>0.561</td>\n",
              "      <td>0.0</td>\n",
              "      <td>0.007025</td>\n",
              "      <td>0.051706</td>\n",
              "      <td>0.002673</td>\n",
              "      <td>0.0</td>\n",
              "      <td>0.561</td>\n",
              "      <td>0.979250</td>\n",
              "      <td>0.403083</td>\n",
              "      <td>0.758058</td>\n",
              "      <td>0.160952</td>\n",
              "      <td>0.025906</td>\n",
              "      <td>0.791000</td>\n",
              "      <td>0.576167</td>\n",
              "      <td>357.730286</td>\n",
              "      <td>3.543198</td>\n",
              "      <td>177.109855</td>\n",
              "      <td>96.802929</td>\n",
              "      <td>9370.807133</td>\n",
              "      <td>153.164843</td>\n",
              "      <td>354.187088</td>\n",
              "      <td>3.009167</td>\n",
              "      <td>0.248333</td>\n",
              "      <td>0.899208</td>\n",
              "      <td>0.539199</td>\n",
              "      <td>0.290736</td>\n",
              "      <td>0.744167</td>\n",
              "      <td>2.760833</td>\n",
              "      <td>90.725000</td>\n",
              "      <td>90.056667</td>\n",
              "      <td>...</td>\n",
              "      <td>0.600083</td>\n",
              "      <td>97.603374</td>\n",
              "      <td>1.395833</td>\n",
              "      <td>90.481667</td>\n",
              "      <td>30.233333</td>\n",
              "      <td>0.0</td>\n",
              "      <td>0.556917</td>\n",
              "      <td>69.085542</td>\n",
              "      <td>1.589167</td>\n",
              "      <td>90.354167</td>\n",
              "      <td>30.583333</td>\n",
              "      <td>0.0</td>\n",
              "      <td>0.520833</td>\n",
              "      <td>171.660338</td>\n",
              "      <td>1.695833</td>\n",
              "      <td>90.2725</td>\n",
              "      <td>28.466667</td>\n",
              "      <td>0.0</td>\n",
              "      <td>0.603083</td>\n",
              "      <td>183.291765</td>\n",
              "      <td>2.548333</td>\n",
              "      <td>90.266667</td>\n",
              "      <td>26.991667</td>\n",
              "      <td>0.0</td>\n",
              "      <td>0.651000</td>\n",
              "      <td>213.937567</td>\n",
              "      <td>1.369167</td>\n",
              "      <td>90.325833</td>\n",
              "      <td>26.025000</td>\n",
              "      <td>0.0</td>\n",
              "      <td>0.649250</td>\n",
              "      <td>73.528733</td>\n",
              "      <td>1.475833</td>\n",
              "      <td>90.439167</td>\n",
              "      <td>21.45</td>\n",
              "      <td>0.561</td>\n",
              "      <td>0.797333</td>\n",
              "      <td>296.967254</td>\n",
              "      <td>1.019167</td>\n",
              "      <td>90.529167</td>\n",
              "    </tr>\n",
              "    <tr>\n",
              "      <th>2</th>\n",
              "      <td>ID_train_10</td>\n",
              "      <td>A</td>\n",
              "      <td>32.661304</td>\n",
              "      <td>31.841667</td>\n",
              "      <td>18.458333</td>\n",
              "      <td>24.112317</td>\n",
              "      <td>3.776377</td>\n",
              "      <td>14.261020</td>\n",
              "      <td>23.304167</td>\n",
              "      <td>13.383333</td>\n",
              "      <td>7.804</td>\n",
              "      <td>0.0</td>\n",
              "      <td>0.151767</td>\n",
              "      <td>0.798401</td>\n",
              "      <td>0.637445</td>\n",
              "      <td>0.0</td>\n",
              "      <td>7.804</td>\n",
              "      <td>0.930333</td>\n",
              "      <td>0.376750</td>\n",
              "      <td>0.712944</td>\n",
              "      <td>0.168129</td>\n",
              "      <td>0.028267</td>\n",
              "      <td>0.766458</td>\n",
              "      <td>0.553583</td>\n",
              "      <td>357.265773</td>\n",
              "      <td>0.581510</td>\n",
              "      <td>201.373211</td>\n",
              "      <td>92.105195</td>\n",
              "      <td>8483.367004</td>\n",
              "      <td>208.901301</td>\n",
              "      <td>356.684263</td>\n",
              "      <td>2.751667</td>\n",
              "      <td>0.331667</td>\n",
              "      <td>1.038656</td>\n",
              "      <td>0.585221</td>\n",
              "      <td>0.342484</td>\n",
              "      <td>0.942500</td>\n",
              "      <td>2.420000</td>\n",
              "      <td>88.813333</td>\n",
              "      <td>87.982500</td>\n",
              "      <td>...</td>\n",
              "      <td>0.881333</td>\n",
              "      <td>NaN</td>\n",
              "      <td>NaN</td>\n",
              "      <td>88.448333</td>\n",
              "      <td>23.541667</td>\n",
              "      <td>0.0</td>\n",
              "      <td>0.734750</td>\n",
              "      <td>NaN</td>\n",
              "      <td>NaN</td>\n",
              "      <td>88.500000</td>\n",
              "      <td>26.408333</td>\n",
              "      <td>0.0</td>\n",
              "      <td>0.603000</td>\n",
              "      <td>NaN</td>\n",
              "      <td>NaN</td>\n",
              "      <td>88.4950</td>\n",
              "      <td>28.075000</td>\n",
              "      <td>0.0</td>\n",
              "      <td>0.496667</td>\n",
              "      <td>NaN</td>\n",
              "      <td>NaN</td>\n",
              "      <td>88.515833</td>\n",
              "      <td>29.241667</td>\n",
              "      <td>0.0</td>\n",
              "      <td>0.459583</td>\n",
              "      <td>NaN</td>\n",
              "      <td>NaN</td>\n",
              "      <td>88.475833</td>\n",
              "      <td>30.091667</td>\n",
              "      <td>0.0</td>\n",
              "      <td>0.437917</td>\n",
              "      <td>NaN</td>\n",
              "      <td>NaN</td>\n",
              "      <td>88.415833</td>\n",
              "      <td>NaN</td>\n",
              "      <td>NaN</td>\n",
              "      <td>NaN</td>\n",
              "      <td>NaN</td>\n",
              "      <td>NaN</td>\n",
              "      <td>NaN</td>\n",
              "    </tr>\n",
              "  </tbody>\n",
              "</table>\n",
              "<p>3 rows × 771 columns</p>\n",
              "</div>"
            ],
            "text/plain": [
              "            ID location  ...  windspeed120  atmospherepressure120\n",
              "0   ID_train_0        C  ...           NaN                    NaN\n",
              "1   ID_train_1        D  ...      1.019167              90.529167\n",
              "2  ID_train_10        A  ...           NaN                    NaN\n",
              "\n",
              "[3 rows x 771 columns]"
            ]
          },
          "metadata": {
            "tags": []
          },
          "execution_count": 29
        }
      ]
    },
    {
      "cell_type": "code",
      "metadata": {
        "id": "M5QOS8jLIuGz",
        "colab_type": "code",
        "colab": {}
      },
      "source": [
        ""
      ],
      "execution_count": 29,
      "outputs": []
    },
    {
      "cell_type": "code",
      "metadata": {
        "id": "Jj9kdaWKH9di",
        "colab_type": "code",
        "colab": {
          "base_uri": "https://localhost:8080/",
          "height": 35
        },
        "outputId": "cc8e397e-d5c1-4062-f47d-b66efd14eaf5"
      },
      "source": [
        "from sklearn.model_selection import train_test_split\n",
        "data, labels = np.arange(10).reshape((5, 2)), range(5)\n",
        "data_train, data_test, labels_train, labels_test = train_test_split(data, labels, test_size=0.20, random_state=42)\n",
        "\n",
        "labels_train"
      ],
      "execution_count": 30,
      "outputs": [
        {
          "output_type": "execute_result",
          "data": {
            "text/plain": [
              "[4, 2, 0, 3]"
            ]
          },
          "metadata": {
            "tags": []
          },
          "execution_count": 30
        }
      ]
    },
    {
      "cell_type": "code",
      "metadata": {
        "id": "uGoZl-nLIuIc",
        "colab_type": "code",
        "colab": {
          "base_uri": "https://localhost:8080/",
          "height": 168
        },
        "outputId": "615756fb-f217-4ec8-adf1-99d8c40681a8"
      },
      "source": [
        "l"
      ],
      "execution_count": 31,
      "outputs": [
        {
          "output_type": "error",
          "ename": "NameError",
          "evalue": "ignored",
          "traceback": [
            "\u001b[0;31m---------------------------------------------------------------------------\u001b[0m",
            "\u001b[0;31mNameError\u001b[0m                                 Traceback (most recent call last)",
            "\u001b[0;32m<ipython-input-31-cde25b5e10ad>\u001b[0m in \u001b[0;36m<module>\u001b[0;34m()\u001b[0m\n\u001b[0;32m----> 1\u001b[0;31m \u001b[0ml\u001b[0m\u001b[0;34m\u001b[0m\u001b[0;34m\u001b[0m\u001b[0m\n\u001b[0m",
            "\u001b[0;31mNameError\u001b[0m: name 'l' is not defined"
          ]
        }
      ]
    },
    {
      "cell_type": "code",
      "metadata": {
        "id": "v5cpej7xtklk",
        "colab_type": "code",
        "colab": {}
      },
      "source": [
        "def lstm_restructure2():\n",
        "  "
      ],
      "execution_count": null,
      "outputs": []
    },
    {
      "cell_type": "code",
      "metadata": {
        "id": "ZWlvJPyzPMkv",
        "colab_type": "code",
        "colab": {
          "base_uri": "https://localhost:8080/",
          "height": 1000
        },
        "outputId": "9f8ceeee-894d-40d2-c029-01594c7e0de5"
      },
      "source": [
        "# Now we need to restructeure the data for the LSTM model\n",
        "# We want:\n",
        "#  [{ID_train_0: [temps],[precip],[humidity],[wind_dir],[wind_spd],[atmos_pressure]},\n",
        "#   {ID_train_1: [temps],[precip],[humidity],[wind_dir],[wind_spd],[atmos_pressure]},\n",
        "#   ...\n",
        "#   {ID_train_100000: [temps],[precip],[humidity],[wind_dir],[wind_spd],[atmos_pressure]}\n",
        "#  ]\n",
        "#\n",
        "# And then the targets\n",
        "\n",
        "def lstm_feature_structure(dataset):\n",
        "  # Remove the aggregation \n",
        "  nonAggCols = [c for c in dataset.columns if (\"max\" not in c and \n",
        "                                               \"min\" not in c and \n",
        "                                               \"mean\" not in c and \n",
        "                                               \"std\" not in c and \n",
        "                                               \"var\" not in c and \n",
        "                                               \"median\" not in c and \n",
        "                                               \"ptp\" not in c)]\n",
        "                                             \n",
        "  dataset = dataset[nonAggCols]\n",
        "\n",
        "  tempsCols = [c for c in dataset.columns if \"temp\" in c]\n",
        "  temps = dataset[tempsCols]\n",
        "  print (temps[0])\n",
        "\n",
        "  precipsCols = [c for c in dataset.columns if \"precip\" in c]\n",
        "  precips = dataset[precipsCols]\n",
        "\n",
        "  humiditysCols = [c for c in dataset.columns if \"humidity\" in c]\n",
        "  humiditys = dataset[humiditysCols]\n",
        "\n",
        "  winddirectionsCols = [c for c in dataset.columns if \"wind_dir\" in c]\n",
        "  winddirections = dataset[winddirectionsCols]\n",
        "\n",
        "  windspeedsCols = [c for c in dataset.columns if \"windspeed\" in c]\n",
        "  windspeeds = dataset[windspeedsCols]\n",
        "\n",
        "  atmospherepressuresCols = [c for c in dataset.columns if \"atmospherepressure\" in c]\n",
        "  atmospherepressures = dataset[atmospherepressuresCols]\n",
        "  \n",
        "  result_array = np.empty((0, 6, 121, 1))\n",
        "  '''\n",
        "  # Brute force (._.)\n",
        "  for i in range(temps.values.shape[0]):\n",
        "    result_array2 = np.empty((0, 121))\n",
        "    result_array2 = np.append(result_array2, [temps.values[i]], axis=0)\n",
        "    result_array2 = np.append(result_array2, [precips.values[i]], axis=0)\n",
        "    result_array2 = np.append(result_array2, [humiditys.values[i]], axis=0)\n",
        "    result_array2 = np.append(result_array2, [winddirections.values[i]], axis=0)\n",
        "    result_array2 = np.append(result_array2, [windspeeds.values[i]], axis=0)\n",
        "    result_array2 = np.append(result_array2, [atmospherepressures.values[i]], axis=0)\n",
        "\n",
        "    result_array = np.append(result_array, [result_array2], axis=0)\n",
        "  '''\n",
        "\n",
        "  return result_array2\n",
        "\n",
        "\n",
        "\n",
        "lstmdata = lstm_feature_structure(train)\n",
        "lstmdata.shape\n",
        "\n"
      ],
      "execution_count": 32,
      "outputs": [
        {
          "output_type": "error",
          "ename": "KeyError",
          "evalue": "ignored",
          "traceback": [
            "\u001b[0;31m---------------------------------------------------------------------------\u001b[0m",
            "\u001b[0;31mKeyError\u001b[0m                                  Traceback (most recent call last)",
            "\u001b[0;32m/usr/local/lib/python3.6/dist-packages/pandas/core/indexes/base.py\u001b[0m in \u001b[0;36mget_loc\u001b[0;34m(self, key, method, tolerance)\u001b[0m\n\u001b[1;32m   2645\u001b[0m             \u001b[0;32mtry\u001b[0m\u001b[0;34m:\u001b[0m\u001b[0;34m\u001b[0m\u001b[0;34m\u001b[0m\u001b[0m\n\u001b[0;32m-> 2646\u001b[0;31m                 \u001b[0;32mreturn\u001b[0m \u001b[0mself\u001b[0m\u001b[0;34m.\u001b[0m\u001b[0m_engine\u001b[0m\u001b[0;34m.\u001b[0m\u001b[0mget_loc\u001b[0m\u001b[0;34m(\u001b[0m\u001b[0mkey\u001b[0m\u001b[0;34m)\u001b[0m\u001b[0;34m\u001b[0m\u001b[0;34m\u001b[0m\u001b[0m\n\u001b[0m\u001b[1;32m   2647\u001b[0m             \u001b[0;32mexcept\u001b[0m \u001b[0mKeyError\u001b[0m\u001b[0;34m:\u001b[0m\u001b[0;34m\u001b[0m\u001b[0;34m\u001b[0m\u001b[0m\n",
            "\u001b[0;32mpandas/_libs/index.pyx\u001b[0m in \u001b[0;36mpandas._libs.index.IndexEngine.get_loc\u001b[0;34m()\u001b[0m\n",
            "\u001b[0;32mpandas/_libs/index.pyx\u001b[0m in \u001b[0;36mpandas._libs.index.IndexEngine.get_loc\u001b[0;34m()\u001b[0m\n",
            "\u001b[0;32mpandas/_libs/hashtable_class_helper.pxi\u001b[0m in \u001b[0;36mpandas._libs.hashtable.PyObjectHashTable.get_item\u001b[0;34m()\u001b[0m\n",
            "\u001b[0;32mpandas/_libs/hashtable_class_helper.pxi\u001b[0m in \u001b[0;36mpandas._libs.hashtable.PyObjectHashTable.get_item\u001b[0;34m()\u001b[0m\n",
            "\u001b[0;31mKeyError\u001b[0m: 0",
            "\nDuring handling of the above exception, another exception occurred:\n",
            "\u001b[0;31mKeyError\u001b[0m                                  Traceback (most recent call last)",
            "\u001b[0;32m<ipython-input-32-f93bfcf006fc>\u001b[0m in \u001b[0;36m<module>\u001b[0;34m()\u001b[0m\n\u001b[1;32m     59\u001b[0m \u001b[0;34m\u001b[0m\u001b[0m\n\u001b[1;32m     60\u001b[0m \u001b[0;34m\u001b[0m\u001b[0m\n\u001b[0;32m---> 61\u001b[0;31m \u001b[0mlstmdata\u001b[0m \u001b[0;34m=\u001b[0m \u001b[0mlstm_feature_structure\u001b[0m\u001b[0;34m(\u001b[0m\u001b[0mtrain\u001b[0m\u001b[0;34m)\u001b[0m\u001b[0;34m\u001b[0m\u001b[0;34m\u001b[0m\u001b[0m\n\u001b[0m\u001b[1;32m     62\u001b[0m \u001b[0mlstmdata\u001b[0m\u001b[0;34m.\u001b[0m\u001b[0mshape\u001b[0m\u001b[0;34m\u001b[0m\u001b[0;34m\u001b[0m\u001b[0m\n\u001b[1;32m     63\u001b[0m \u001b[0;34m\u001b[0m\u001b[0m\n",
            "\u001b[0;32m<ipython-input-32-f93bfcf006fc>\u001b[0m in \u001b[0;36mlstm_feature_structure\u001b[0;34m(dataset)\u001b[0m\n\u001b[1;32m     23\u001b[0m   \u001b[0mtempsCols\u001b[0m \u001b[0;34m=\u001b[0m \u001b[0;34m[\u001b[0m\u001b[0mc\u001b[0m \u001b[0;32mfor\u001b[0m \u001b[0mc\u001b[0m \u001b[0;32min\u001b[0m \u001b[0mdataset\u001b[0m\u001b[0;34m.\u001b[0m\u001b[0mcolumns\u001b[0m \u001b[0;32mif\u001b[0m \u001b[0;34m\"temp\"\u001b[0m \u001b[0;32min\u001b[0m \u001b[0mc\u001b[0m\u001b[0;34m]\u001b[0m\u001b[0;34m\u001b[0m\u001b[0;34m\u001b[0m\u001b[0m\n\u001b[1;32m     24\u001b[0m   \u001b[0mtemps\u001b[0m \u001b[0;34m=\u001b[0m \u001b[0mdataset\u001b[0m\u001b[0;34m[\u001b[0m\u001b[0mtempsCols\u001b[0m\u001b[0;34m]\u001b[0m\u001b[0;34m\u001b[0m\u001b[0;34m\u001b[0m\u001b[0m\n\u001b[0;32m---> 25\u001b[0;31m   \u001b[0mprint\u001b[0m \u001b[0;34m(\u001b[0m\u001b[0mtemps\u001b[0m\u001b[0;34m[\u001b[0m\u001b[0;36m0\u001b[0m\u001b[0;34m]\u001b[0m\u001b[0;34m)\u001b[0m\u001b[0;34m\u001b[0m\u001b[0;34m\u001b[0m\u001b[0m\n\u001b[0m\u001b[1;32m     26\u001b[0m \u001b[0;34m\u001b[0m\u001b[0m\n\u001b[1;32m     27\u001b[0m   \u001b[0mprecipsCols\u001b[0m \u001b[0;34m=\u001b[0m \u001b[0;34m[\u001b[0m\u001b[0mc\u001b[0m \u001b[0;32mfor\u001b[0m \u001b[0mc\u001b[0m \u001b[0;32min\u001b[0m \u001b[0mdataset\u001b[0m\u001b[0;34m.\u001b[0m\u001b[0mcolumns\u001b[0m \u001b[0;32mif\u001b[0m \u001b[0;34m\"precip\"\u001b[0m \u001b[0;32min\u001b[0m \u001b[0mc\u001b[0m\u001b[0;34m]\u001b[0m\u001b[0;34m\u001b[0m\u001b[0;34m\u001b[0m\u001b[0m\n",
            "\u001b[0;32m/usr/local/lib/python3.6/dist-packages/pandas/core/frame.py\u001b[0m in \u001b[0;36m__getitem__\u001b[0;34m(self, key)\u001b[0m\n\u001b[1;32m   2798\u001b[0m             \u001b[0;32mif\u001b[0m \u001b[0mself\u001b[0m\u001b[0;34m.\u001b[0m\u001b[0mcolumns\u001b[0m\u001b[0;34m.\u001b[0m\u001b[0mnlevels\u001b[0m \u001b[0;34m>\u001b[0m \u001b[0;36m1\u001b[0m\u001b[0;34m:\u001b[0m\u001b[0;34m\u001b[0m\u001b[0;34m\u001b[0m\u001b[0m\n\u001b[1;32m   2799\u001b[0m                 \u001b[0;32mreturn\u001b[0m \u001b[0mself\u001b[0m\u001b[0;34m.\u001b[0m\u001b[0m_getitem_multilevel\u001b[0m\u001b[0;34m(\u001b[0m\u001b[0mkey\u001b[0m\u001b[0;34m)\u001b[0m\u001b[0;34m\u001b[0m\u001b[0;34m\u001b[0m\u001b[0m\n\u001b[0;32m-> 2800\u001b[0;31m             \u001b[0mindexer\u001b[0m \u001b[0;34m=\u001b[0m \u001b[0mself\u001b[0m\u001b[0;34m.\u001b[0m\u001b[0mcolumns\u001b[0m\u001b[0;34m.\u001b[0m\u001b[0mget_loc\u001b[0m\u001b[0;34m(\u001b[0m\u001b[0mkey\u001b[0m\u001b[0;34m)\u001b[0m\u001b[0;34m\u001b[0m\u001b[0;34m\u001b[0m\u001b[0m\n\u001b[0m\u001b[1;32m   2801\u001b[0m             \u001b[0;32mif\u001b[0m \u001b[0mis_integer\u001b[0m\u001b[0;34m(\u001b[0m\u001b[0mindexer\u001b[0m\u001b[0;34m)\u001b[0m\u001b[0;34m:\u001b[0m\u001b[0;34m\u001b[0m\u001b[0;34m\u001b[0m\u001b[0m\n\u001b[1;32m   2802\u001b[0m                 \u001b[0mindexer\u001b[0m \u001b[0;34m=\u001b[0m \u001b[0;34m[\u001b[0m\u001b[0mindexer\u001b[0m\u001b[0;34m]\u001b[0m\u001b[0;34m\u001b[0m\u001b[0;34m\u001b[0m\u001b[0m\n",
            "\u001b[0;32m/usr/local/lib/python3.6/dist-packages/pandas/core/indexes/base.py\u001b[0m in \u001b[0;36mget_loc\u001b[0;34m(self, key, method, tolerance)\u001b[0m\n\u001b[1;32m   2646\u001b[0m                 \u001b[0;32mreturn\u001b[0m \u001b[0mself\u001b[0m\u001b[0;34m.\u001b[0m\u001b[0m_engine\u001b[0m\u001b[0;34m.\u001b[0m\u001b[0mget_loc\u001b[0m\u001b[0;34m(\u001b[0m\u001b[0mkey\u001b[0m\u001b[0;34m)\u001b[0m\u001b[0;34m\u001b[0m\u001b[0;34m\u001b[0m\u001b[0m\n\u001b[1;32m   2647\u001b[0m             \u001b[0;32mexcept\u001b[0m \u001b[0mKeyError\u001b[0m\u001b[0;34m:\u001b[0m\u001b[0;34m\u001b[0m\u001b[0;34m\u001b[0m\u001b[0m\n\u001b[0;32m-> 2648\u001b[0;31m                 \u001b[0;32mreturn\u001b[0m \u001b[0mself\u001b[0m\u001b[0;34m.\u001b[0m\u001b[0m_engine\u001b[0m\u001b[0;34m.\u001b[0m\u001b[0mget_loc\u001b[0m\u001b[0;34m(\u001b[0m\u001b[0mself\u001b[0m\u001b[0;34m.\u001b[0m\u001b[0m_maybe_cast_indexer\u001b[0m\u001b[0;34m(\u001b[0m\u001b[0mkey\u001b[0m\u001b[0;34m)\u001b[0m\u001b[0;34m)\u001b[0m\u001b[0;34m\u001b[0m\u001b[0;34m\u001b[0m\u001b[0m\n\u001b[0m\u001b[1;32m   2649\u001b[0m         \u001b[0mindexer\u001b[0m \u001b[0;34m=\u001b[0m \u001b[0mself\u001b[0m\u001b[0;34m.\u001b[0m\u001b[0mget_indexer\u001b[0m\u001b[0;34m(\u001b[0m\u001b[0;34m[\u001b[0m\u001b[0mkey\u001b[0m\u001b[0;34m]\u001b[0m\u001b[0;34m,\u001b[0m \u001b[0mmethod\u001b[0m\u001b[0;34m=\u001b[0m\u001b[0mmethod\u001b[0m\u001b[0;34m,\u001b[0m \u001b[0mtolerance\u001b[0m\u001b[0;34m=\u001b[0m\u001b[0mtolerance\u001b[0m\u001b[0;34m)\u001b[0m\u001b[0;34m\u001b[0m\u001b[0;34m\u001b[0m\u001b[0m\n\u001b[1;32m   2650\u001b[0m         \u001b[0;32mif\u001b[0m \u001b[0mindexer\u001b[0m\u001b[0;34m.\u001b[0m\u001b[0mndim\u001b[0m \u001b[0;34m>\u001b[0m \u001b[0;36m1\u001b[0m \u001b[0;32mor\u001b[0m \u001b[0mindexer\u001b[0m\u001b[0;34m.\u001b[0m\u001b[0msize\u001b[0m \u001b[0;34m>\u001b[0m \u001b[0;36m1\u001b[0m\u001b[0;34m:\u001b[0m\u001b[0;34m\u001b[0m\u001b[0;34m\u001b[0m\u001b[0m\n",
            "\u001b[0;32mpandas/_libs/index.pyx\u001b[0m in \u001b[0;36mpandas._libs.index.IndexEngine.get_loc\u001b[0;34m()\u001b[0m\n",
            "\u001b[0;32mpandas/_libs/index.pyx\u001b[0m in \u001b[0;36mpandas._libs.index.IndexEngine.get_loc\u001b[0;34m()\u001b[0m\n",
            "\u001b[0;32mpandas/_libs/hashtable_class_helper.pxi\u001b[0m in \u001b[0;36mpandas._libs.hashtable.PyObjectHashTable.get_item\u001b[0;34m()\u001b[0m\n",
            "\u001b[0;32mpandas/_libs/hashtable_class_helper.pxi\u001b[0m in \u001b[0;36mpandas._libs.hashtable.PyObjectHashTable.get_item\u001b[0;34m()\u001b[0m\n",
            "\u001b[0;31mKeyError\u001b[0m: 0"
          ]
        }
      ]
    },
    {
      "cell_type": "code",
      "metadata": {
        "id": "sy2SakFrjZes",
        "colab_type": "code",
        "colab": {
          "base_uri": "https://localhost:8080/",
          "height": 1000
        },
        "outputId": "000d5479-7c61-4e21-e8e5-ec2c4b39be27"
      },
      "source": [
        "print(lstmdata)\n",
        "lstm_target =train['target'].values\n"
      ],
      "execution_count": 34,
      "outputs": [
        {
          "output_type": "stream",
          "text": [
            "[[[2.69090909e+01 2.72083333e+01 2.61833333e+01 ...            nan\n",
            "              nan            nan]\n",
            "  [0.00000000e+00 0.00000000e+00 0.00000000e+00 ...            nan\n",
            "              nan            nan]\n",
            "  [5.10818182e-01 5.35416667e-01 6.14500000e-01 ...            nan\n",
            "              nan            nan]\n",
            "  [2.72902752e+02 1.04565241e+02 1.67177225e+02 ...            nan\n",
            "              nan            nan]\n",
            "  [8.00909091e-01 1.07333333e+00 1.51750000e+00 ...            nan\n",
            "              nan            nan]\n",
            "  [8.77772727e+01 8.76525000e+01 8.76141667e+01 ...            nan\n",
            "              nan            nan]]\n",
            "\n",
            " [[2.25333333e+01 2.17166667e+01 2.08333333e+01 ... 2.69916667e+01\n",
            "   2.60250000e+01 2.14500000e+01]\n",
            "  [1.02000000e-01 0.00000000e+00 0.00000000e+00 ... 0.00000000e+00\n",
            "   0.00000000e+00 5.61000000e-01]\n",
            "  [7.44583333e-01 8.08083333e-01 9.11166667e-01 ... 6.51000000e-01\n",
            "   6.49250000e-01 7.97333333e-01]\n",
            "  [2.81664310e+02 8.91562926e+01 8.19685389e+01 ... 2.13937567e+02\n",
            "   7.35287330e+01 2.96967254e+02]\n",
            "  [2.37750000e+00 1.12666667e+00 7.00833333e-01 ... 1.36916667e+00\n",
            "   1.47583333e+00 1.01916667e+00]\n",
            "  [9.03200000e+01 9.03775000e+01 9.04408333e+01 ... 9.03258333e+01\n",
            "   9.04391667e+01 9.05291667e+01]]\n",
            "\n",
            " [[2.89750000e+01 2.79500000e+01 2.96000000e+01 ... 2.92416667e+01\n",
            "   3.00916667e+01            nan]\n",
            "  [0.00000000e+00 0.00000000e+00 0.00000000e+00 ... 0.00000000e+00\n",
            "   0.00000000e+00            nan]\n",
            "  [5.73333333e-01 5.97166667e-01 5.66833333e-01 ... 4.59583333e-01\n",
            "   4.37916667e-01            nan]\n",
            "  [3.28682914e+02 3.07825146e+02 3.19017751e+02 ...            nan\n",
            "              nan            nan]\n",
            "  [1.03250000e+00 1.19333333e+00 1.27583333e+00 ...            nan\n",
            "              nan            nan]\n",
            "  [8.85516667e+01 8.84641667e+01 8.83191667e+01 ... 8.84758333e+01\n",
            "   8.84158333e+01            nan]]\n",
            "\n",
            " ...\n",
            "\n",
            " [[2.60916667e+01 2.89750000e+01 3.03166667e+01 ... 2.55666667e+01\n",
            "   2.84583333e+01            nan]\n",
            "  [0.00000000e+00 0.00000000e+00 0.00000000e+00 ... 9.54000000e-01\n",
            "   0.00000000e+00 0.00000000e+00]\n",
            "  [7.81750000e-01 5.78083333e-01 5.13333333e-01 ... 7.49500000e-01\n",
            "   6.10666667e-01            nan]\n",
            "  [1.21706016e+02 1.47247224e+02 8.79594220e+01 ... 5.43236005e+01\n",
            "   7.39058454e+01 7.04338988e+01]\n",
            "  [9.36666667e-01 1.04416667e+00 1.23916667e+00 ... 1.29583333e+00\n",
            "   1.60583333e+00 2.43500000e+00]\n",
            "  [9.06158333e+01 9.04491667e+01 9.03291667e+01 ... 9.07675000e+01\n",
            "   9.06908333e+01 9.05683333e+01]]\n",
            "\n",
            " [[2.92250000e+01 3.00000000e+01 2.95500000e+01 ... 2.84833333e+01\n",
            "   2.94545455e+01 3.03083333e+01]\n",
            "  [0.00000000e+00 0.00000000e+00 0.00000000e+00 ... 0.00000000e+00\n",
            "   0.00000000e+00 0.00000000e+00]\n",
            "  [6.28333333e-01 6.05833333e-01 5.94166667e-01 ... 6.18333333e-01\n",
            "   5.77272727e-01 5.45833333e-01]\n",
            "  [1.56475731e+02 1.68180220e+02 3.38362582e+01 ... 1.78656564e+02\n",
            "   1.50831668e+02 1.51677671e+02]\n",
            "  [1.33083333e+00 1.46666667e+00 9.07500000e-01 ... 1.14916667e+00\n",
            "   1.21545455e+00 1.28583333e+00]\n",
            "  [9.03141667e+01 9.02391667e+01 9.02016667e+01 ... 9.05716667e+01\n",
            "   9.04618182e+01 9.03266667e+01]]\n",
            "\n",
            " [[2.14500000e+01 2.42083333e+01 2.56166667e+01 ... 2.15416667e+01\n",
            "   2.14833333e+01 2.20916667e+01]\n",
            "  [1.70000000e-02 0.00000000e+00 0.00000000e+00 ... 0.00000000e+00\n",
            "   0.00000000e+00 0.00000000e+00]\n",
            "  [9.13333333e-01 7.91666667e-01 7.12500000e-01 ... 7.85833333e-01\n",
            "   7.36666667e-01 6.74166667e-01]\n",
            "  [1.93476345e+02 1.77899064e+02 1.70156296e+02 ... 1.78705930e+01\n",
            "   3.34666143e+02 3.29229336e+02]\n",
            "  [5.00000000e-01 7.39166667e-01 8.30000000e-01 ... 4.25000000e-01\n",
            "   7.01666667e-01 8.41666667e-01]\n",
            "  [8.80675000e+01 8.81166667e+01 8.80925000e+01 ... 8.77683333e+01\n",
            "   8.78058333e+01 8.78550000e+01]]]\n"
          ],
          "name": "stdout"
        }
      ]
    },
    {
      "cell_type": "code",
      "metadata": {
        "id": "CCx7bizdjcbz",
        "colab_type": "code",
        "colab": {}
      },
      "source": [
        "Experiment_name=\"simple_model\""
      ],
      "execution_count": 35,
      "outputs": []
    },
    {
      "cell_type": "code",
      "metadata": {
        "id": "zZ2DYqunjdd0",
        "colab_type": "code",
        "colab": {}
      },
      "source": [
        "import os\n",
        "os.makedirs(\"proc_data\", exist_ok=True)\n",
        "os.makedirs(\"model_save/lgbm/{}\".format(Experiment_name), exist_ok=True)\n",
        "# os.makedirs(\"model_save/catboost/{}\".format(Experiment_name), exist_ok=True)\n",
        "# os.makedirs(\"model_save/xgboost/{}\".format(Experiment_name), exist_ok=True)\n",
        "os.makedirs(\"model_save/lstm/{}\".format(Experiment_name), exist_ok=True)"
      ],
      "execution_count": 36,
      "outputs": []
    },
    {
      "cell_type": "code",
      "metadata": {
        "id": "Mq4q8luPjoXW",
        "colab_type": "code",
        "colab": {}
      },
      "source": [
        "# Establish number of folds for K-Fold Cross Validation\n",
        "\n",
        "try:\n",
        "    folds=pd.read_csv(\"./proc_data/folds_id.csv\")\n",
        "    train=train.merge(folds,on=\"ID\",how=\"left\")\n",
        "    train.fold.nunique()\n",
        "except: \n",
        "    #  you run this cell  only for the first time \n",
        "    from sklearn.model_selection import KFold \n",
        "    kfold=KFold(n_splits=5,shuffle=True,random_state=321) \n",
        "    train.reset_index(drop=True,inplace=True)\n",
        "    folds=train[[\"ID\"]].copy()\n",
        "    folds[\"fold\"]=0\n",
        "    for fold,(tr_indx,val_ind) in enumerate(kfold.split(folds)) : \n",
        "        folds.loc[val_ind,\"fold\"]=fold\n",
        "    folds.to_csv(\"./proc_data/folds_id.csv\",index=False)\n",
        "    train=train.merge(folds,on=\"ID\",how=\"left\")\n",
        "    \n",
        "    del folds"
      ],
      "execution_count": 37,
      "outputs": []
    },
    {
      "cell_type": "markdown",
      "metadata": {
        "id": "7489TkHIlBPH",
        "colab_type": "text"
      },
      "source": [
        "### 3. Use LGBM Model for this data"
      ]
    },
    {
      "cell_type": "code",
      "metadata": {
        "id": "zZrZvRh1k1oV",
        "colab_type": "code",
        "colab": {
          "base_uri": "https://localhost:8080/",
          "height": 141
        },
        "outputId": "38788e7e-6f5c-4ad2-b973-75c661a1d35c"
      },
      "source": [
        "train.columns"
      ],
      "execution_count": 38,
      "outputs": [
        {
          "output_type": "execute_result",
          "data": {
            "text/plain": [
              "Index(['ID', 'location', 'target', 'max_temp', 'min_temp', 'mean_temp',\n",
              "       'std_temp', 'var_temp', 'median_temp', 'ptp_temp',\n",
              "       ...\n",
              "       'newwind_dir119', 'windspeed119', 'atmospherepressure119', 'newtemp120',\n",
              "       'newprecip120', 'newrel_humidity120', 'newwind_dir120', 'windspeed120',\n",
              "       'atmospherepressure120', 'fold'],\n",
              "      dtype='object', length=772)"
            ]
          },
          "metadata": {
            "tags": []
          },
          "execution_count": 38
        }
      ]
    },
    {
      "cell_type": "code",
      "metadata": {
        "id": "aBATiFJJlAmY",
        "colab_type": "code",
        "colab": {}
      },
      "source": [
        "target_name=\"target\"\n",
        "id_name=\"ID\"\n",
        "features_to_remove=[target_name,id_name,\"fold\",\"location\"]\n",
        "features=train.columns.tolist()\n",
        "features=[ fea for fea in  features if fea not in features_to_remove  ]\n"
      ],
      "execution_count": 39,
      "outputs": []
    },
    {
      "cell_type": "code",
      "metadata": {
        "id": "JkwMsC-jlE3o",
        "colab_type": "code",
        "colab": {}
      },
      "source": [
        "from sklearn.metrics import mean_squared_error\n",
        "\n",
        "def metric(y,x):\n",
        "    return np.sqrt(mean_squared_error(x,y))\n",
        "\n",
        "def metric2 (y,x):\n",
        "    return np.abs(y-x)    "
      ],
      "execution_count": 40,
      "outputs": []
    },
    {
      "cell_type": "code",
      "metadata": {
        "id": "658lkusflI5Y",
        "colab_type": "code",
        "colab": {
          "base_uri": "https://localhost:8080/",
          "height": 266
        },
        "outputId": "7cd783cb-a143-4cf8-eb48-7e6df64d1bcd"
      },
      "source": [
        "import  lightgbm as lgbm \n",
        "import xgboost as xgb \n",
        "\n",
        "!pip install catboost\n",
        "import catboost as cat \n",
        "\n",
        "from keras.models import Sequential\n",
        "from keras.layers.core import Activation, Dropout, Dense\n",
        "from keras.layers import Flatten, LSTM, GRU\n",
        "from keras.layers import GlobalMaxPooling1D\n",
        "from keras.models import Model\n",
        "from keras.layers.embeddings import Embedding\n",
        "from sklearn.model_selection import train_test_split\n",
        "from sklearn.model_selection import KFold"
      ],
      "execution_count": 41,
      "outputs": [
        {
          "output_type": "stream",
          "text": [
            "Requirement already satisfied: catboost in /usr/local/lib/python3.6/dist-packages (0.23.2)\n",
            "Requirement already satisfied: pandas>=0.24.0 in /usr/local/lib/python3.6/dist-packages (from catboost) (1.0.4)\n",
            "Requirement already satisfied: scipy in /usr/local/lib/python3.6/dist-packages (from catboost) (1.4.1)\n",
            "Requirement already satisfied: numpy>=1.16.0 in /usr/local/lib/python3.6/dist-packages (from catboost) (1.18.5)\n",
            "Requirement already satisfied: graphviz in /usr/local/lib/python3.6/dist-packages (from catboost) (0.10.1)\n",
            "Requirement already satisfied: matplotlib in /usr/local/lib/python3.6/dist-packages (from catboost) (3.2.1)\n",
            "Requirement already satisfied: plotly in /usr/local/lib/python3.6/dist-packages (from catboost) (4.4.1)\n",
            "Requirement already satisfied: six in /usr/local/lib/python3.6/dist-packages (from catboost) (1.12.0)\n",
            "Requirement already satisfied: python-dateutil>=2.6.1 in /usr/local/lib/python3.6/dist-packages (from pandas>=0.24.0->catboost) (2.8.1)\n",
            "Requirement already satisfied: pytz>=2017.2 in /usr/local/lib/python3.6/dist-packages (from pandas>=0.24.0->catboost) (2018.9)\n",
            "Requirement already satisfied: cycler>=0.10 in /usr/local/lib/python3.6/dist-packages (from matplotlib->catboost) (0.10.0)\n",
            "Requirement already satisfied: pyparsing!=2.0.4,!=2.1.2,!=2.1.6,>=2.0.1 in /usr/local/lib/python3.6/dist-packages (from matplotlib->catboost) (2.4.7)\n",
            "Requirement already satisfied: kiwisolver>=1.0.1 in /usr/local/lib/python3.6/dist-packages (from matplotlib->catboost) (1.2.0)\n",
            "Requirement already satisfied: retrying>=1.3.3 in /usr/local/lib/python3.6/dist-packages (from plotly->catboost) (1.3.3)\n"
          ],
          "name": "stdout"
        }
      ]
    },
    {
      "cell_type": "code",
      "metadata": {
        "id": "0IK6ee__lKUH",
        "colab_type": "code",
        "colab": {}
      },
      "source": [
        "\n",
        "\n",
        "def train_function(model,train,test,params,other_params,target_name,features,metric):\n",
        "    # Using the cross validation\n",
        "    folds_num=train.fold.nunique()\n",
        "    validation=train[[id_name,\"fold\",target_name]].copy()\n",
        "    validation[\"pred_\"+target_name]=0\n",
        "    sub=test[[id_name]].copy()\n",
        "    sub[target_name]=0\n",
        "    \n",
        "    for fold in np.sort(train.fold.unique()):\n",
        "        print(\"#\"*50+\" {} \".format(fold)+\"#\"*50)\n",
        "        os.makedirs(\"model_save/lgbm/{}/{}\".format(Experiment_name,str(int(fold))), exist_ok=True)\n",
        "        X_train=train[train.fold!=fold]\n",
        "        X_val=train[train.fold==fold]\n",
        "        \n",
        "        train_pred,validation_pred,test_pred=model(X_train,X_val,test,params,other_params)\n",
        "        \n",
        "        validation.loc[validation.fold==fold,\"pred_\"+target_name]=validation_pred\n",
        "        sub[target_name]+=test_pred/folds_num\n",
        "        train_score=metric(X_train[target_name],train_pred)\n",
        "        val_score=metric(X_val[target_name],validation_pred)\n",
        "        print(\"train score : {} validation score : {}\".format(round(train_score,4),round(val_score,4)))\n",
        "\n",
        "    final_validation_score=metric(validation[target_name],validation[\"pred_\"+target_name])\n",
        "    print(\"final validation score : {}\".format(final_validation_score))\n",
        "        \n",
        "    return sub,validation,final_validation_score\n",
        "\n",
        "def train_function2(model, train_input, train_targets, target_name, features, metric):\n",
        "    # Just a regular partition of the data\n",
        "    # folds_num=train.fold.nunique()\n",
        "    # validation=train[[id_name,\"fold\",target_name]].copy()\n",
        "    # validation[\"pred_\"+target_name]=0\n",
        "    print(train_input.shape)\n",
        "    acc_per_fold = []\n",
        "    loss_per_fold = []\n",
        "    accuracy,loss=model(train_input, train_targets)\n",
        "    '''\n",
        "    kfold = KFold(n_splits=5, shuffle=True)\n",
        "    count = 0\n",
        "    for train, test in kfold.split(train_input, train_targets):\n",
        "      print(\"#\"*50+\" {} \".format(count)+\"#\"*50)\n",
        "      os.makedirs(\"model_save/lstm/{}/{}\".format(Experiment_name,str(int(count))), exist_ok=True)\n",
        "      accuracy,loss=model(train,test)\n",
        "      acc_per_fold.append(scores[1] * 100)\n",
        "      loss_per_fold.append(scores[0])\n",
        "      count = count + 1\n",
        "    print('Average scores for all folds:')\n",
        "    print(f'> Accuracy: {np.mean(acc_per_fold)} (+- {np.std(acc_per_fold)})')\n",
        "    print(f'> Loss: {np.mean(loss_per_fold)}')\n",
        "    print('------------------------------------------------------------------------')\n",
        "\n",
        "\n",
        "    '''\n",
        "    '''\n",
        "    for fold in np.sort(train.fold.unique()):\n",
        "        print(\"#\"*50+\" {} \".format(fold)+\"#\"*50)\n",
        "        os.makedirs(\"model_save/lstm/{}/{}\".format(Experiment_name,str(int(fold))), exist_ok=True)\n",
        "        X_train=train[train.fold!=fold]\n",
        "        X_val=train[train.fold==fold]\n",
        "        \n",
        "        train_pred,validation_pred,test_pred=model(X_train,X_val,test)\n",
        "        \n",
        "        validation.loc[validation.fold==fold,\"pred_\"+target_name]=validation_pred\n",
        "        # sub[target_name]+=test_pred/folds_num\n",
        "        train_score=metric(X_train[target_name],train_pred)\n",
        "        val_score=metric(X_val[target_name],validation_pred)\n",
        "        print(\"train score : {} validation score : {}\".format(round(train_score,4),round(val_score,4)))\n",
        "\n",
        "    final_validation_score=metric(validation[target_name],validation[\"pred_\"+target_name])\n",
        "    print(\"final validation score : {}\".format(final_validation_score))\n",
        "    '''\n",
        "        \n",
        "    return 0,0    \n",
        "\n",
        "def lgbm_model(X_train,X_val,X_test,params,other_params):\n",
        "    dtrain = lgbm.Dataset(data=X_train[features], label=X_train[target_name], feature_name=features)\n",
        "    dval = lgbm.Dataset(data=X_val[features], label=X_val[target_name], feature_name=features)\n",
        "\n",
        "    model = lgbm.train(\n",
        "        params=params,\n",
        "        train_set=dtrain,\n",
        "        num_boost_round=other_params[\"num_boost_round\"],\n",
        "        valid_sets=(dtrain, dval),\n",
        "        early_stopping_rounds=other_params[\"early_stopping_rounds\"],\n",
        "        verbose_eval=other_params[\"verbose_eval\"],\n",
        "    )        \n",
        "    best_iteration = model.best_iteration\n",
        "    train_pred=model.predict(X_train[features], num_iteration=best_iteration)\n",
        "    validation_pred=model.predict(X_val[features], num_iteration=best_iteration)\n",
        "    test_pred=model.predict(X_test[features], num_iteration=best_iteration)\n",
        "        \n",
        "    return train_pred,validation_pred,test_pred"
      ],
      "execution_count": 62,
      "outputs": []
    },
    {
      "cell_type": "code",
      "metadata": {
        "id": "b1rX1Hoh6NRV",
        "colab_type": "code",
        "colab": {}
      },
      "source": [
        "from keras import backend\n",
        "\n",
        "def rmse(y_true, y_pred):\n",
        "\treturn backend.sqrt(backend.mean(backend.square(y_pred - y_true), axis=-1))\n",
        "\n",
        "def lstm_model(X_train, X_y):\n",
        "    dtrain = X_train\n",
        "    dresult =X_y\n",
        "    # dval = X_val[features].values.reshape(X_val[features].shape[0],X_val[features].shape[1],1)\n",
        "    # print(dtrain)\n",
        "\n",
        "    model = Sequential()\n",
        "    model.add(LSTM(50, activation='relu', input_shape=(dtrain.shape[0],dtrain.shape[1])))\n",
        "    model.add(Dense(1))\n",
        "    model.compile(optimizer='adam', loss='mse', metrics=[rmse])\n",
        "\n",
        "    model.fit(x=dtrain, y=dresult, epochs=1, verbose=1000, batch_size=100)\n",
        "            \n",
        "    train_pred=model.predict(dtrain, verbose=0)\n",
        "    #validation_pred=model.predict(X_val[features].values.reshape(X_val[features].shape[0],X_val[features].shape[1],1), verbose=0)\n",
        "    fold_no = 0\n",
        "    scores = model.evaluate(dtrain, dresult, verbose=0)\n",
        "    print(f'Score for fold {fold_no}: {model.metrics_names[0]} of {scores[0]}; {model.metrics_names[1]} of {scores[1]*100}%')\n",
        "    # acc_per_fold.append(scores[1] * 100)\n",
        "    # loss_per_fold.append(scores[0])\n",
        "    \n",
        "        \n",
        "    return scores[1]*100, scores[0]"
      ],
      "execution_count": 71,
      "outputs": []
    },
    {
      "cell_type": "code",
      "metadata": {
        "id": "pXTJHQOglToH",
        "colab_type": "code",
        "colab": {}
      },
      "source": [
        "other_params={\"num_boost_round\":50000000,\n",
        "              \"early_stopping_rounds\":50,\n",
        "              \"verbose_eval\":1000,\n",
        "}\n",
        "lgbm_params = {\n",
        "    \"bagging_fraction\": 0.8,\n",
        "    \"bagging_freq\": 2,\n",
        "    \"boosting_type\": \"goss\",\n",
        "    \"feature_fraction\": 0.8,\n",
        "    \"learning_rate\": 0.01,\n",
        "    \"max_depth\": 8,\n",
        "    \"num_threads\": 16,\n",
        "    \"objective\": \"regression\",\n",
        "    \"metric\": \"rmse\",\n",
        "    \"seed\": 2020,\n",
        "}"
      ],
      "execution_count": null,
      "outputs": []
    },
    {
      "cell_type": "code",
      "metadata": {
        "id": "ZO2ElT9GRFyb",
        "colab_type": "code",
        "colab": {
          "base_uri": "https://localhost:8080/",
          "height": 418
        },
        "outputId": "f35e5dd4-d292-4fa5-9a5f-7fd3b69e720c"
      },
      "source": [
        "# LSTM\n",
        "train_function2(model=lstm_model,\n",
        "                                    train_input=lstmdata,\n",
        "                                    train_targets = lstm_target,\n",
        "                                    target_name=target_name,\n",
        "                                    features=features,\n",
        "                                    metric=metric)\n",
        "\n",
        "#print (validation,score)\n",
        "\n",
        "\n"
      ],
      "execution_count": 72,
      "outputs": [
        {
          "output_type": "stream",
          "text": [
            "(15539, 6, 121)\n"
          ],
          "name": "stdout"
        },
        {
          "output_type": "error",
          "ename": "ValueError",
          "evalue": "ignored",
          "traceback": [
            "\u001b[0;31m---------------------------------------------------------------------------\u001b[0m",
            "\u001b[0;31mValueError\u001b[0m                                Traceback (most recent call last)",
            "\u001b[0;32m<ipython-input-72-4b954913234c>\u001b[0m in \u001b[0;36m<module>\u001b[0;34m()\u001b[0m\n\u001b[1;32m      5\u001b[0m                                     \u001b[0mtarget_name\u001b[0m\u001b[0;34m=\u001b[0m\u001b[0mtarget_name\u001b[0m\u001b[0;34m,\u001b[0m\u001b[0;34m\u001b[0m\u001b[0;34m\u001b[0m\u001b[0m\n\u001b[1;32m      6\u001b[0m                                     \u001b[0mfeatures\u001b[0m\u001b[0;34m=\u001b[0m\u001b[0mfeatures\u001b[0m\u001b[0;34m,\u001b[0m\u001b[0;34m\u001b[0m\u001b[0;34m\u001b[0m\u001b[0m\n\u001b[0;32m----> 7\u001b[0;31m                                     metric=metric)\n\u001b[0m\u001b[1;32m      8\u001b[0m \u001b[0;34m\u001b[0m\u001b[0m\n\u001b[1;32m      9\u001b[0m \u001b[0;31m#print (validation,score)\u001b[0m\u001b[0;34m\u001b[0m\u001b[0;34m\u001b[0m\u001b[0;34m\u001b[0m\u001b[0m\n",
            "\u001b[0;32m<ipython-input-62-8c5a049b9c86>\u001b[0m in \u001b[0;36mtrain_function2\u001b[0;34m(model, train_input, train_targets, target_name, features, metric)\u001b[0m\n\u001b[1;32m     36\u001b[0m     \u001b[0macc_per_fold\u001b[0m \u001b[0;34m=\u001b[0m \u001b[0;34m[\u001b[0m\u001b[0;34m]\u001b[0m\u001b[0;34m\u001b[0m\u001b[0;34m\u001b[0m\u001b[0m\n\u001b[1;32m     37\u001b[0m     \u001b[0mloss_per_fold\u001b[0m \u001b[0;34m=\u001b[0m \u001b[0;34m[\u001b[0m\u001b[0;34m]\u001b[0m\u001b[0;34m\u001b[0m\u001b[0;34m\u001b[0m\u001b[0m\n\u001b[0;32m---> 38\u001b[0;31m     \u001b[0maccuracy\u001b[0m\u001b[0;34m,\u001b[0m\u001b[0mloss\u001b[0m\u001b[0;34m=\u001b[0m\u001b[0mmodel\u001b[0m\u001b[0;34m(\u001b[0m\u001b[0mtrain_input\u001b[0m\u001b[0;34m,\u001b[0m \u001b[0mtrain_targets\u001b[0m\u001b[0;34m)\u001b[0m\u001b[0;34m\u001b[0m\u001b[0;34m\u001b[0m\u001b[0m\n\u001b[0m\u001b[1;32m     39\u001b[0m     '''\n\u001b[1;32m     40\u001b[0m     \u001b[0mkfold\u001b[0m \u001b[0;34m=\u001b[0m \u001b[0mKFold\u001b[0m\u001b[0;34m(\u001b[0m\u001b[0mn_splits\u001b[0m\u001b[0;34m=\u001b[0m\u001b[0;36m5\u001b[0m\u001b[0;34m,\u001b[0m \u001b[0mshuffle\u001b[0m\u001b[0;34m=\u001b[0m\u001b[0;32mTrue\u001b[0m\u001b[0;34m)\u001b[0m\u001b[0;34m\u001b[0m\u001b[0;34m\u001b[0m\u001b[0m\n",
            "\u001b[0;32m<ipython-input-71-5d4286e2c796>\u001b[0m in \u001b[0;36mlstm_model\u001b[0;34m(X_train, X_y)\u001b[0m\n\u001b[1;32m     15\u001b[0m     \u001b[0mmodel\u001b[0m\u001b[0;34m.\u001b[0m\u001b[0mcompile\u001b[0m\u001b[0;34m(\u001b[0m\u001b[0moptimizer\u001b[0m\u001b[0;34m=\u001b[0m\u001b[0;34m'adam'\u001b[0m\u001b[0;34m,\u001b[0m \u001b[0mloss\u001b[0m\u001b[0;34m=\u001b[0m\u001b[0;34m'mse'\u001b[0m\u001b[0;34m,\u001b[0m \u001b[0mmetrics\u001b[0m\u001b[0;34m=\u001b[0m\u001b[0;34m[\u001b[0m\u001b[0mrmse\u001b[0m\u001b[0;34m]\u001b[0m\u001b[0;34m)\u001b[0m\u001b[0;34m\u001b[0m\u001b[0;34m\u001b[0m\u001b[0m\n\u001b[1;32m     16\u001b[0m \u001b[0;34m\u001b[0m\u001b[0m\n\u001b[0;32m---> 17\u001b[0;31m     \u001b[0mmodel\u001b[0m\u001b[0;34m.\u001b[0m\u001b[0mfit\u001b[0m\u001b[0;34m(\u001b[0m\u001b[0mx\u001b[0m\u001b[0;34m=\u001b[0m\u001b[0mdtrain\u001b[0m\u001b[0;34m,\u001b[0m \u001b[0my\u001b[0m\u001b[0;34m=\u001b[0m\u001b[0mdresult\u001b[0m\u001b[0;34m,\u001b[0m \u001b[0mepochs\u001b[0m\u001b[0;34m=\u001b[0m\u001b[0;36m1\u001b[0m\u001b[0;34m,\u001b[0m \u001b[0mverbose\u001b[0m\u001b[0;34m=\u001b[0m\u001b[0;36m1000\u001b[0m\u001b[0;34m,\u001b[0m \u001b[0mbatch_size\u001b[0m\u001b[0;34m=\u001b[0m\u001b[0;36m100\u001b[0m\u001b[0;34m)\u001b[0m\u001b[0;34m\u001b[0m\u001b[0;34m\u001b[0m\u001b[0m\n\u001b[0m\u001b[1;32m     18\u001b[0m \u001b[0;34m\u001b[0m\u001b[0m\n\u001b[1;32m     19\u001b[0m     \u001b[0mtrain_pred\u001b[0m\u001b[0;34m=\u001b[0m\u001b[0mmodel\u001b[0m\u001b[0;34m.\u001b[0m\u001b[0mpredict\u001b[0m\u001b[0;34m(\u001b[0m\u001b[0mdtrain\u001b[0m\u001b[0;34m,\u001b[0m \u001b[0mverbose\u001b[0m\u001b[0;34m=\u001b[0m\u001b[0;36m0\u001b[0m\u001b[0;34m)\u001b[0m\u001b[0;34m\u001b[0m\u001b[0;34m\u001b[0m\u001b[0m\n",
            "\u001b[0;32m/usr/local/lib/python3.6/dist-packages/keras/engine/training.py\u001b[0m in \u001b[0;36mfit\u001b[0;34m(self, x, y, batch_size, epochs, verbose, callbacks, validation_split, validation_data, shuffle, class_weight, sample_weight, initial_epoch, steps_per_epoch, validation_steps, validation_freq, max_queue_size, workers, use_multiprocessing, **kwargs)\u001b[0m\n\u001b[1;32m   1152\u001b[0m             \u001b[0msample_weight\u001b[0m\u001b[0;34m=\u001b[0m\u001b[0msample_weight\u001b[0m\u001b[0;34m,\u001b[0m\u001b[0;34m\u001b[0m\u001b[0;34m\u001b[0m\u001b[0m\n\u001b[1;32m   1153\u001b[0m             \u001b[0mclass_weight\u001b[0m\u001b[0;34m=\u001b[0m\u001b[0mclass_weight\u001b[0m\u001b[0;34m,\u001b[0m\u001b[0;34m\u001b[0m\u001b[0;34m\u001b[0m\u001b[0m\n\u001b[0;32m-> 1154\u001b[0;31m             batch_size=batch_size)\n\u001b[0m\u001b[1;32m   1155\u001b[0m \u001b[0;34m\u001b[0m\u001b[0m\n\u001b[1;32m   1156\u001b[0m         \u001b[0;31m# Prepare validation data.\u001b[0m\u001b[0;34m\u001b[0m\u001b[0;34m\u001b[0m\u001b[0;34m\u001b[0m\u001b[0m\n",
            "\u001b[0;32m/usr/local/lib/python3.6/dist-packages/keras/engine/training.py\u001b[0m in \u001b[0;36m_standardize_user_data\u001b[0;34m(self, x, y, sample_weight, class_weight, check_array_lengths, batch_size)\u001b[0m\n\u001b[1;32m    577\u001b[0m             \u001b[0mfeed_input_shapes\u001b[0m\u001b[0;34m,\u001b[0m\u001b[0;34m\u001b[0m\u001b[0;34m\u001b[0m\u001b[0m\n\u001b[1;32m    578\u001b[0m             \u001b[0mcheck_batch_axis\u001b[0m\u001b[0;34m=\u001b[0m\u001b[0;32mFalse\u001b[0m\u001b[0;34m,\u001b[0m  \u001b[0;31m# Don't enforce the batch size.\u001b[0m\u001b[0;34m\u001b[0m\u001b[0;34m\u001b[0m\u001b[0m\n\u001b[0;32m--> 579\u001b[0;31m             exception_prefix='input')\n\u001b[0m\u001b[1;32m    580\u001b[0m \u001b[0;34m\u001b[0m\u001b[0m\n\u001b[1;32m    581\u001b[0m         \u001b[0;32mif\u001b[0m \u001b[0my\u001b[0m \u001b[0;32mis\u001b[0m \u001b[0;32mnot\u001b[0m \u001b[0;32mNone\u001b[0m\u001b[0;34m:\u001b[0m\u001b[0;34m\u001b[0m\u001b[0;34m\u001b[0m\u001b[0m\n",
            "\u001b[0;32m/usr/local/lib/python3.6/dist-packages/keras/engine/training_utils.py\u001b[0m in \u001b[0;36mstandardize_input_data\u001b[0;34m(data, names, shapes, check_batch_axis, exception_prefix)\u001b[0m\n\u001b[1;32m    143\u001b[0m                             \u001b[0;34m': expected '\u001b[0m \u001b[0;34m+\u001b[0m \u001b[0mnames\u001b[0m\u001b[0;34m[\u001b[0m\u001b[0mi\u001b[0m\u001b[0;34m]\u001b[0m \u001b[0;34m+\u001b[0m \u001b[0;34m' to have shape '\u001b[0m \u001b[0;34m+\u001b[0m\u001b[0;34m\u001b[0m\u001b[0;34m\u001b[0m\u001b[0m\n\u001b[1;32m    144\u001b[0m                             \u001b[0mstr\u001b[0m\u001b[0;34m(\u001b[0m\u001b[0mshape\u001b[0m\u001b[0;34m)\u001b[0m \u001b[0;34m+\u001b[0m \u001b[0;34m' but got array with shape '\u001b[0m \u001b[0;34m+\u001b[0m\u001b[0;34m\u001b[0m\u001b[0;34m\u001b[0m\u001b[0m\n\u001b[0;32m--> 145\u001b[0;31m                             str(data_shape))\n\u001b[0m\u001b[1;32m    146\u001b[0m     \u001b[0;32mreturn\u001b[0m \u001b[0mdata\u001b[0m\u001b[0;34m\u001b[0m\u001b[0;34m\u001b[0m\u001b[0m\n\u001b[1;32m    147\u001b[0m \u001b[0;34m\u001b[0m\u001b[0m\n",
            "\u001b[0;31mValueError\u001b[0m: Error when checking input: expected lstm_5_input to have shape (15539, 6) but got array with shape (6, 121)"
          ]
        }
      ]
    },
    {
      "cell_type": "code",
      "metadata": {
        "id": "gmDUjgqLlgAH",
        "colab_type": "code",
        "colab": {
          "base_uri": "https://localhost:8080/",
          "height": 201
        },
        "outputId": "16b214ab-3798-439f-fe79-196ce22e745a"
      },
      "source": [
        "# LGBM\n",
        "'''\n",
        "sub,validation,score=train_function(model=lstm_model,\n",
        "                                    train=train,\n",
        "                                    test=test,\n",
        "                                    params=lgbm_params,\n",
        "                                    other_params=other_params,\n",
        "                                    target_name=target_name,\n",
        "                                    features=features,\n",
        "                                    metric=metric)\n",
        "'''\n",
        "train[target_name].shape[1]"
      ],
      "execution_count": 38,
      "outputs": [
        {
          "output_type": "error",
          "ename": "IndexError",
          "evalue": "ignored",
          "traceback": [
            "\u001b[0;31m---------------------------------------------------------------------------\u001b[0m",
            "\u001b[0;31mIndexError\u001b[0m                                Traceback (most recent call last)",
            "\u001b[0;32m<ipython-input-38-7b881fbb35ae>\u001b[0m in \u001b[0;36m<module>\u001b[0;34m()\u001b[0m\n\u001b[1;32m     10\u001b[0m                                     metric=metric)\n\u001b[1;32m     11\u001b[0m '''\n\u001b[0;32m---> 12\u001b[0;31m \u001b[0mtrain\u001b[0m\u001b[0;34m[\u001b[0m\u001b[0mtarget_name\u001b[0m\u001b[0;34m]\u001b[0m\u001b[0;34m.\u001b[0m\u001b[0mshape\u001b[0m\u001b[0;34m[\u001b[0m\u001b[0;36m1\u001b[0m\u001b[0;34m]\u001b[0m\u001b[0;34m\u001b[0m\u001b[0;34m\u001b[0m\u001b[0m\n\u001b[0m",
            "\u001b[0;31mIndexError\u001b[0m: tuple index out of range"
          ]
        }
      ]
    },
    {
      "cell_type": "code",
      "metadata": {
        "id": "8nShHaTcliK6",
        "colab_type": "code",
        "colab": {}
      },
      "source": [
        "os.makedirs(\"subs\", exist_ok=True)"
      ],
      "execution_count": null,
      "outputs": []
    },
    {
      "cell_type": "code",
      "metadata": {
        "id": "Gb85f3kslmQw",
        "colab_type": "code",
        "colab": {}
      },
      "source": [
        "sub.to_csv(\"./subs/lgbm_{}.csv\".format(round(score,2)),index=False)"
      ],
      "execution_count": null,
      "outputs": []
    },
    {
      "cell_type": "code",
      "metadata": {
        "id": "FqRHogUAUTU8",
        "colab_type": "code",
        "colab": {}
      },
      "source": [
        "sub.to_csv(\"./subs/lstm_{}.csv\".format(round(score,2)),index=False)"
      ],
      "execution_count": null,
      "outputs": []
    },
    {
      "cell_type": "markdown",
      "metadata": {
        "id": "eUTzAD-jlmy2",
        "colab_type": "text"
      },
      "source": [
        "### 3. Use LSTM Model for this data"
      ]
    },
    {
      "cell_type": "code",
      "metadata": {
        "id": "9rdMUlAjxFxu",
        "colab_type": "code",
        "colab": {}
      },
      "source": [
        ""
      ],
      "execution_count": null,
      "outputs": []
    },
    {
      "cell_type": "markdown",
      "metadata": {
        "id": "3puTUR52602z",
        "colab_type": "text"
      },
      "source": [
        "# LSTM APPROACH"
      ]
    },
    {
      "cell_type": "code",
      "metadata": {
        "id": "S96NcpwV66_a",
        "colab_type": "code",
        "colab": {}
      },
      "source": [
        "import tensorflow.keras.backend as K\n",
        "from tensorflow.keras.layers import Input, Dense, GRU, Lambda\n",
        "from tensorflow.keras.layers import Reshape, GlobalAveragePooling1D\n",
        "from tensorflow.keras.models import Model\n",
        "from tensorflow.keras.utils  import plot_model\n",
        "import numpy as np"
      ],
      "execution_count": 2,
      "outputs": []
    },
    {
      "cell_type": "code",
      "metadata": {
        "id": "_4oCxIur69wo",
        "colab_type": "code",
        "colab": {
          "base_uri": "https://localhost:8080/",
          "height": 644
        },
        "outputId": "5d4c38e4-4fd1-4c7c-c4f8-d6e545efeebb"
      },
      "source": [
        "def make_model(batch_shape):\n",
        "    ipt  = Input(batch_shape=batch_shape)\n",
        "    # x    = Lambda(lambda x: K.squeeze(x, 0))(ipt)\n",
        "    x, s = GRU(10, return_state=True)(ipt) # s == last returned state \n",
        "    x    = Lambda(lambda x: K.expand_dims(x, 0))(x)\n",
        "    x    = GlobalAveragePooling1D()(x)  # averages along axis1 (original axis2)\n",
        "    x    = Dense(32, activation='relu')(x)\n",
        "    out  = Dense(1,  activation='sigmoid')(x)\n",
        "\n",
        "    model = Model(ipt, out)\n",
        "    model.compile('adam', 'binary_crossentropy')\n",
        "    return model\n",
        "\n",
        "def make_data(batch_shape):\n",
        "    return (np.random.randn(*batch_shape),\n",
        "            np.random.randint(0, 2, (batch_shape[0], 1)))\n",
        "\n",
        "model = make_model((10000, 6, 121))\n",
        "#3 model.summary()  # see model structure\n",
        "plot_model(model, show_shapes=True)"
      ],
      "execution_count": 47,
      "outputs": [
        {
          "output_type": "execute_result",
          "data": {
            "image/png": "[encoded data removed]",
            "text/plain": [
              "<IPython.core.display.Image object>"
            ]
          },
          "metadata": {
            "tags": []
          },
          "execution_count": 47
        }
      ]
    }
  ]
}